{
 "cells": [
  {
   "cell_type": "code",
   "execution_count": 1,
   "metadata": {},
   "outputs": [],
   "source": [
    "import rsa\n",
    "import base64\n",
    "import random\n",
    "from cryptography.fernet import Fernet"
   ]
  },
  {
   "cell_type": "code",
   "execution_count": 2,
   "metadata": {},
   "outputs": [],
   "source": [
    "def generate_rsa():\n",
    "    publicKey, privateKey = rsa.newkeys(2048)\n",
    "    return publicKey, privateKey\n",
    "\n",
    "def generate_fernet():\n",
    "    uniKey = Fernet.generate_key()\n",
    "    return uniKey"
   ]
  },
  {
   "cell_type": "code",
   "execution_count": 3,
   "metadata": {},
   "outputs": [],
   "source": [
    "def string_to_bytes(s):\n",
    "    txt = s.encode('utf-8')\n",
    "    return txt"
   ]
  },
  {
   "cell_type": "code",
   "execution_count": 4,
   "metadata": {},
   "outputs": [],
   "source": [
    "pub, prv = generate_rsa()\n",
    "uni = generate_fernet()"
   ]
  },
  {
   "cell_type": "code",
   "execution_count": 5,
   "metadata": {},
   "outputs": [],
   "source": [
    "plain = 'aku adalah anak gembala selalu riang serta gembira'\n",
    "plain = string_to_bytes(plain)"
   ]
  },
  {
   "cell_type": "code",
   "execution_count": 6,
   "metadata": {},
   "outputs": [],
   "source": [
    "def bytes_to_string(b):\n",
    "    g = base64.b64decode(b)\n",
    "    return g.decode('utf-8')"
   ]
  },
  {
   "cell_type": "code",
   "execution_count": 7,
   "metadata": {},
   "outputs": [],
   "source": [
    "def list_to_string(s):\n",
    "    str = ''\n",
    "    \n",
    "    for x in s:\n",
    "        str += x\n",
    "\n",
    "    return str"
   ]
  },
  {
   "cell_type": "code",
   "execution_count": 8,
   "metadata": {},
   "outputs": [],
   "source": [
    "def replacer(s, newstring, index, nofail=False):\n",
    "    if not nofail and index not in range(len(s)):\n",
    "        raise ValueError(\"index outside given string\")\n",
    "\n",
    "    if index < 0:\n",
    "        return newstring + s\n",
    "    if index > len(s):\n",
    "        return s + newstring\n",
    "\n",
    "    return s[:index] + newstring + s[index + 1:]"
   ]
  },
  {
   "cell_type": "code",
   "execution_count": 9,
   "metadata": {},
   "outputs": [],
   "source": [
    "def bitstring_to_bytes(s):\n",
    "    v = int(s, 2)\n",
    "    b = bytearray()\n",
    "    while v:\n",
    "        b.append(v & 0xff)\n",
    "        v >>= 8\n",
    "    return bytes(b[::-1])"
   ]
  },
  {
   "cell_type": "code",
   "execution_count": 10,
   "metadata": {},
   "outputs": [],
   "source": [
    "def bytes_to_bits(b):\n",
    "    arr = []\n",
    "    for x in b:\n",
    "        arr.append(f'{x:0>8b}')\n",
    "    bit = list_to_string(arr)\n",
    "    return bit"
   ]
  },
  {
   "cell_type": "code",
   "execution_count": 11,
   "metadata": {},
   "outputs": [],
   "source": [
    "def string_to_bits(s):\n",
    "    byt = string_to_bytes(s)\n",
    "    bit = bytes_to_bits(byt)\n",
    "    return bit"
   ]
  },
  {
   "cell_type": "code",
   "execution_count": 12,
   "metadata": {},
   "outputs": [],
   "source": [
    "def change_bit(bit):\n",
    "    j = len(bit)\n",
    "    k = random.randrange(j)\n",
    "    bit = list(bit)\n",
    "    if bit[k] == '0':\n",
    "        bit[k] = '1'\n",
    "    else:\n",
    "        bit[k] = '0'\n",
    "    bit = ''.join(bit)\n",
    "    return bit"
   ]
  },
  {
   "cell_type": "code",
   "execution_count": 13,
   "metadata": {},
   "outputs": [],
   "source": [
    "def encData(data, uniKey, pubKey):\n",
    "    f = Fernet(uniKey)\n",
    "\n",
    "    enc_data = f.encrypt(data)\n",
    "\n",
    "    enc_uniKey = rsa.encrypt(uniKey, pubKey)\n",
    "\n",
    "    return enc_uniKey, enc_data"
   ]
  },
  {
   "cell_type": "code",
   "execution_count": 14,
   "metadata": {},
   "outputs": [],
   "source": [
    "def decData(data, enc_uniKey, prvKey):\n",
    "    uniKey = rsa.decrypt(enc_uniKey, prvKey)\n",
    "\n",
    "    f = Fernet(uniKey)\n",
    "\n",
    "    data = f.decrypt(data).decode('utf-8')\n",
    "\n",
    "    return data"
   ]
  },
  {
   "cell_type": "code",
   "execution_count": 15,
   "metadata": {},
   "outputs": [],
   "source": [
    "def differentBits(b1, b2):\n",
    "    r = len(b1)\n",
    "    diff = 0\n",
    "    for i in range(r):\n",
    "        if (b1[i] != b2[i]):\n",
    "            diff += 1\n",
    "    result = diff/r*100\n",
    "    return result"
   ]
  },
  {
   "cell_type": "code",
   "execution_count": 16,
   "metadata": {},
   "outputs": [],
   "source": [
    "key, d = encData(plain, uni, pub)"
   ]
  },
  {
   "cell_type": "code",
   "execution_count": 17,
   "metadata": {},
   "outputs": [
    {
     "data": {
      "text/plain": [
       "'aku adalah anak gembala selalu riang serta gembira'"
      ]
     },
     "execution_count": 17,
     "metadata": {},
     "output_type": "execute_result"
    }
   ],
   "source": [
    "o = decData(d, key, prv)\n",
    "o"
   ]
  },
  {
   "cell_type": "code",
   "execution_count": 18,
   "metadata": {},
   "outputs": [],
   "source": [
    "def getAva(plain, fernet, pubKey):\n",
    "    p = bytes_to_bits(plain)\n",
    "    p2 = change_bit(p)\n",
    "\n",
    "    p = bitstring_to_bytes(p)\n",
    "    p2 = bitstring_to_bytes(p2)\n",
    "\n",
    "    tKey, tData = encData(p, fernet, pubKey)\n",
    "    t2Key, t2Data = encData(p2, fernet, pubKey)\n",
    "\n",
    "    tData = bytes_to_bits(tData)\n",
    "    tKey = bytes_to_bits(tKey)\n",
    "    t2Data = bytes_to_bits(t2Data)\n",
    "    t2Key = bytes_to_bits(t2Key)\n",
    "    \n",
    "    t = tKey + tData\n",
    "    t2 = t2Key + t2Data\n",
    "\n",
    "    diff = differentBits(t, t2)\n",
    "    return diff\n",
    "\n",
    "    "
   ]
  },
  {
   "cell_type": "code",
   "execution_count": 19,
   "metadata": {},
   "outputs": [
    {
     "data": {
      "text/plain": [
       "46.07142857142857"
      ]
     },
     "execution_count": 19,
     "metadata": {},
     "output_type": "execute_result"
    }
   ],
   "source": [
    "diff = getAva(plain, uni, pub)\n",
    "diff"
   ]
  }
 ],
 "metadata": {
  "kernelspec": {
   "display_name": "Python 3",
   "language": "python",
   "name": "python3"
  },
  "language_info": {
   "codemirror_mode": {
    "name": "ipython",
    "version": 3
   },
   "file_extension": ".py",
   "mimetype": "text/x-python",
   "name": "python",
   "nbconvert_exporter": "python",
   "pygments_lexer": "ipython3",
   "version": "3.11.0"
  },
  "orig_nbformat": 4
 },
 "nbformat": 4,
 "nbformat_minor": 2
}
