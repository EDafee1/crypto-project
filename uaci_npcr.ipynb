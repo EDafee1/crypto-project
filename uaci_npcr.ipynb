{
 "cells": [
  {
   "cell_type": "code",
   "execution_count": 19,
   "metadata": {},
   "outputs": [],
   "source": [
    "import numpy as np\n",
    "import cv2\n",
    "import numpy as np"
   ]
  },
  {
   "cell_type": "code",
   "execution_count": 20,
   "metadata": {},
   "outputs": [],
   "source": [
    "def uaci_evaluation1(img1, img2):\n",
    "    diff = np.abs(img1 - img2)\n",
    "    \n",
    "    # Calculate the UACI (Universal Image Quality Index) value\n",
    "    uaci = np.sum(diff) / (255 * img1.shape[0] * img2.shape[1])\n",
    "    \n",
    "    return uaci"
   ]
  },
  {
   "cell_type": "code",
   "execution_count": 21,
   "metadata": {},
   "outputs": [],
   "source": [
    "def uaci_evaluation2(img1, img2):\n",
    "    # Convert the images to numpy arrays\n",
    "    original_arr = np.array(img1)\n",
    "    stego_arr = np.array(img2)\n",
    "\n",
    "    # Calculate the MSE between the images\n",
    "    mse = np.mean((original_arr - stego_arr) ** 2)\n",
    "\n",
    "    # Calculate the UACI score\n",
    "    uaci = 1 - mse / (255.0 ** 2)\n",
    "\n",
    "    return uaci"
   ]
  },
  {
   "cell_type": "code",
   "execution_count": 22,
   "metadata": {},
   "outputs": [],
   "source": [
    "img1 = cv2.imread('wand_ori.png', 0)\n",
    "img2 = cv2.imread('temp_img.png', 0)"
   ]
  },
  {
   "cell_type": "code",
   "execution_count": 23,
   "metadata": {},
   "outputs": [
    {
     "name": "stdout",
     "output_type": "stream",
     "text": [
      "0.4346625098341806\n"
     ]
    }
   ],
   "source": [
    "uaci1 = uaci_evaluation1(img1, img2)\n",
    "print(uaci1)"
   ]
  },
  {
   "cell_type": "code",
   "execution_count": 24,
   "metadata": {},
   "outputs": [
    {
     "name": "stdout",
     "output_type": "stream",
     "text": [
      "0.9997129633337842\n"
     ]
    }
   ],
   "source": [
    "uaci2 = uaci_evaluation2(img1, img2)\n",
    "print(uaci2)"
   ]
  },
  {
   "cell_type": "code",
   "execution_count": 25,
   "metadata": {},
   "outputs": [],
   "source": [
    "def npcr_evaluation(img1, img2):\n",
    "    # Convert the images to numpy arrays\n",
    "    original_arr = np.array(img1)\n",
    "    stego_arr = np.array(img2)\n",
    "\n",
    "    # Calculate the number of pixels that have changed\n",
    "    num_changed_pixels = np.sum(original_arr != stego_arr)\n",
    "\n",
    "    # Calculate the total number of pixels\n",
    "    total_pixels = original_arr.shape[0] * original_arr.shape[1]\n",
    "\n",
    "    # Calculate the NPCR score\n",
    "    npcr = (num_changed_pixels / total_pixels) * 100\n",
    "\n",
    "    return npcr"
   ]
  },
  {
   "cell_type": "code",
   "execution_count": 26,
   "metadata": {},
   "outputs": [
    {
     "name": "stdout",
     "output_type": "stream",
     "text": [
      "80.47810570987654\n"
     ]
    }
   ],
   "source": [
    "npcr = npcr_evaluation(img1, img2)\n",
    "print(npcr)"
   ]
  }
 ],
 "metadata": {
  "kernelspec": {
   "display_name": "Python 3",
   "language": "python",
   "name": "python3"
  },
  "language_info": {
   "codemirror_mode": {
    "name": "ipython",
    "version": 3
   },
   "file_extension": ".py",
   "mimetype": "text/x-python",
   "name": "python",
   "nbconvert_exporter": "python",
   "pygments_lexer": "ipython3",
   "version": "3.11.0"
  },
  "orig_nbformat": 4
 },
 "nbformat": 4,
 "nbformat_minor": 2
}
